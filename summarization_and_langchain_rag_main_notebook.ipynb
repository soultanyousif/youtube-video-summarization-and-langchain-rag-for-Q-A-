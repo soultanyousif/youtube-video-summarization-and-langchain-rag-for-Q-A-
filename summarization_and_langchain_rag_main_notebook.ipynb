{
  "nbformat": 4,
  "nbformat_minor": 0,
  "metadata": {
    "colab": {
      "provenance": [],
      "authorship_tag": "ABX9TyMWUSEmW4p7WSKcDw79HE0V",
      "include_colab_link": true
    },
    "kernelspec": {
      "name": "python3",
      "display_name": "Python 3"
    },
    "language_info": {
      "name": "python"
    }
  },
  "cells": [
    {
      "cell_type": "markdown",
      "metadata": {
        "id": "view-in-github",
        "colab_type": "text"
      },
      "source": [
        "<a href=\"https://colab.research.google.com/github/soultanyousif/youtube-video-summarization-and-langchain-rag-for-Q-A-/blob/main/summarization_and_langchain_rag_main_notebook.ipynb\" target=\"_parent\"><img src=\"https://colab.research.google.com/assets/colab-badge.svg\" alt=\"Open In Colab\"/></a>"
      ]
    },
    {
      "cell_type": "markdown",
      "source": [
        "# **YouTube Video Summarization & Q&A with English/Arabic Support**\n"
      ],
      "metadata": {
        "id": "pJmCxIo3vBVC"
      }
    },
    {
      "cell_type": "markdown",
      "source": [
        "# **Libraries**"
      ],
      "metadata": {
        "id": "RdiDrLiNvdmU"
      }
    },
    {
      "cell_type": "code",
      "execution_count": 52,
      "metadata": {
        "colab": {
          "base_uri": "https://localhost:8080/"
        },
        "id": "WGf7gJBWnDtw",
        "outputId": "5e77030d-323f-4fa8-ca67-f0617b54af87"
      },
      "outputs": [
        {
          "output_type": "stream",
          "name": "stdout",
          "text": [
            "Requirement already satisfied: pytube in /usr/local/lib/python3.12/dist-packages (15.0.0)\n",
            "Requirement already satisfied: yt-dlp in /usr/local/lib/python3.12/dist-packages (2025.8.27)\n",
            "Requirement already satisfied: youtube-transcript-api in /usr/local/lib/python3.12/dist-packages (1.2.2)\n",
            "Requirement already satisfied: defusedxml<0.8.0,>=0.7.1 in /usr/local/lib/python3.12/dist-packages (from youtube-transcript-api) (0.7.1)\n",
            "Requirement already satisfied: requests in /usr/local/lib/python3.12/dist-packages (from youtube-transcript-api) (2.32.5)\n",
            "Requirement already satisfied: charset_normalizer<4,>=2 in /usr/local/lib/python3.12/dist-packages (from requests->youtube-transcript-api) (3.4.3)\n",
            "Requirement already satisfied: idna<4,>=2.5 in /usr/local/lib/python3.12/dist-packages (from requests->youtube-transcript-api) (3.10)\n",
            "Requirement already satisfied: urllib3<3,>=1.21.1 in /usr/local/lib/python3.12/dist-packages (from requests->youtube-transcript-api) (2.5.0)\n",
            "Requirement already satisfied: certifi>=2017.4.17 in /usr/local/lib/python3.12/dist-packages (from requests->youtube-transcript-api) (2025.8.3)\n",
            "Requirement already satisfied: openai-whisper in /usr/local/lib/python3.12/dist-packages (20250625)\n",
            "Requirement already satisfied: more-itertools in /usr/local/lib/python3.12/dist-packages (from openai-whisper) (10.7.0)\n",
            "Requirement already satisfied: numba in /usr/local/lib/python3.12/dist-packages (from openai-whisper) (0.60.0)\n",
            "Requirement already satisfied: numpy in /usr/local/lib/python3.12/dist-packages (from openai-whisper) (2.0.2)\n",
            "Requirement already satisfied: tiktoken in /usr/local/lib/python3.12/dist-packages (from openai-whisper) (0.11.0)\n",
            "Requirement already satisfied: torch in /usr/local/lib/python3.12/dist-packages (from openai-whisper) (2.8.0+cu126)\n",
            "Requirement already satisfied: tqdm in /usr/local/lib/python3.12/dist-packages (from openai-whisper) (4.67.1)\n",
            "Requirement already satisfied: triton>=2 in /usr/local/lib/python3.12/dist-packages (from openai-whisper) (3.4.0)\n",
            "Requirement already satisfied: setuptools>=40.8.0 in /usr/local/lib/python3.12/dist-packages (from triton>=2->openai-whisper) (75.2.0)\n",
            "Requirement already satisfied: llvmlite<0.44,>=0.43.0dev0 in /usr/local/lib/python3.12/dist-packages (from numba->openai-whisper) (0.43.0)\n",
            "Requirement already satisfied: regex>=2022.1.18 in /usr/local/lib/python3.12/dist-packages (from tiktoken->openai-whisper) (2024.11.6)\n",
            "Requirement already satisfied: requests>=2.26.0 in /usr/local/lib/python3.12/dist-packages (from tiktoken->openai-whisper) (2.32.5)\n",
            "Requirement already satisfied: filelock in /usr/local/lib/python3.12/dist-packages (from torch->openai-whisper) (3.19.1)\n",
            "Requirement already satisfied: typing-extensions>=4.10.0 in /usr/local/lib/python3.12/dist-packages (from torch->openai-whisper) (4.15.0)\n",
            "Requirement already satisfied: sympy>=1.13.3 in /usr/local/lib/python3.12/dist-packages (from torch->openai-whisper) (1.13.3)\n",
            "Requirement already satisfied: networkx in /usr/local/lib/python3.12/dist-packages (from torch->openai-whisper) (3.5)\n",
            "Requirement already satisfied: jinja2 in /usr/local/lib/python3.12/dist-packages (from torch->openai-whisper) (3.1.6)\n",
            "Requirement already satisfied: fsspec in /usr/local/lib/python3.12/dist-packages (from torch->openai-whisper) (2025.3.0)\n",
            "Requirement already satisfied: nvidia-cuda-nvrtc-cu12==12.6.77 in /usr/local/lib/python3.12/dist-packages (from torch->openai-whisper) (12.6.77)\n",
            "Requirement already satisfied: nvidia-cuda-runtime-cu12==12.6.77 in /usr/local/lib/python3.12/dist-packages (from torch->openai-whisper) (12.6.77)\n",
            "Requirement already satisfied: nvidia-cuda-cupti-cu12==12.6.80 in /usr/local/lib/python3.12/dist-packages (from torch->openai-whisper) (12.6.80)\n",
            "Requirement already satisfied: nvidia-cudnn-cu12==9.10.2.21 in /usr/local/lib/python3.12/dist-packages (from torch->openai-whisper) (9.10.2.21)\n",
            "Requirement already satisfied: nvidia-cublas-cu12==12.6.4.1 in /usr/local/lib/python3.12/dist-packages (from torch->openai-whisper) (12.6.4.1)\n",
            "Requirement already satisfied: nvidia-cufft-cu12==11.3.0.4 in /usr/local/lib/python3.12/dist-packages (from torch->openai-whisper) (11.3.0.4)\n",
            "Requirement already satisfied: nvidia-curand-cu12==10.3.7.77 in /usr/local/lib/python3.12/dist-packages (from torch->openai-whisper) (10.3.7.77)\n",
            "Requirement already satisfied: nvidia-cusolver-cu12==11.7.1.2 in /usr/local/lib/python3.12/dist-packages (from torch->openai-whisper) (11.7.1.2)\n",
            "Requirement already satisfied: nvidia-cusparse-cu12==12.5.4.2 in /usr/local/lib/python3.12/dist-packages (from torch->openai-whisper) (12.5.4.2)\n",
            "Requirement already satisfied: nvidia-cusparselt-cu12==0.7.1 in /usr/local/lib/python3.12/dist-packages (from torch->openai-whisper) (0.7.1)\n",
            "Requirement already satisfied: nvidia-nccl-cu12==2.27.3 in /usr/local/lib/python3.12/dist-packages (from torch->openai-whisper) (2.27.3)\n",
            "Requirement already satisfied: nvidia-nvtx-cu12==12.6.77 in /usr/local/lib/python3.12/dist-packages (from torch->openai-whisper) (12.6.77)\n",
            "Requirement already satisfied: nvidia-nvjitlink-cu12==12.6.85 in /usr/local/lib/python3.12/dist-packages (from torch->openai-whisper) (12.6.85)\n",
            "Requirement already satisfied: nvidia-cufile-cu12==1.11.1.6 in /usr/local/lib/python3.12/dist-packages (from torch->openai-whisper) (1.11.1.6)\n",
            "Requirement already satisfied: charset_normalizer<4,>=2 in /usr/local/lib/python3.12/dist-packages (from requests>=2.26.0->tiktoken->openai-whisper) (3.4.3)\n",
            "Requirement already satisfied: idna<4,>=2.5 in /usr/local/lib/python3.12/dist-packages (from requests>=2.26.0->tiktoken->openai-whisper) (3.10)\n",
            "Requirement already satisfied: urllib3<3,>=1.21.1 in /usr/local/lib/python3.12/dist-packages (from requests>=2.26.0->tiktoken->openai-whisper) (2.5.0)\n",
            "Requirement already satisfied: certifi>=2017.4.17 in /usr/local/lib/python3.12/dist-packages (from requests>=2.26.0->tiktoken->openai-whisper) (2025.8.3)\n",
            "Requirement already satisfied: mpmath<1.4,>=1.1.0 in /usr/local/lib/python3.12/dist-packages (from sympy>=1.13.3->torch->openai-whisper) (1.3.0)\n",
            "Requirement already satisfied: MarkupSafe>=2.0 in /usr/local/lib/python3.12/dist-packages (from jinja2->torch->openai-whisper) (3.0.2)\n",
            "Requirement already satisfied: langdetect in /usr/local/lib/python3.12/dist-packages (1.0.9)\n",
            "Requirement already satisfied: langid in /usr/local/lib/python3.12/dist-packages (1.1.6)\n",
            "Requirement already satisfied: six in /usr/local/lib/python3.12/dist-packages (from langdetect) (1.17.0)\n",
            "Requirement already satisfied: numpy in /usr/local/lib/python3.12/dist-packages (from langid) (2.0.2)\n",
            "Requirement already satisfied: transformers in /usr/local/lib/python3.12/dist-packages (4.55.4)\n",
            "Requirement already satisfied: sentencepiece in /usr/local/lib/python3.12/dist-packages (0.2.1)\n",
            "Requirement already satisfied: accelerate in /usr/local/lib/python3.12/dist-packages (1.10.1)\n",
            "Requirement already satisfied: filelock in /usr/local/lib/python3.12/dist-packages (from transformers) (3.19.1)\n",
            "Requirement already satisfied: huggingface-hub<1.0,>=0.34.0 in /usr/local/lib/python3.12/dist-packages (from transformers) (0.34.4)\n",
            "Requirement already satisfied: numpy>=1.17 in /usr/local/lib/python3.12/dist-packages (from transformers) (2.0.2)\n",
            "Requirement already satisfied: packaging>=20.0 in /usr/local/lib/python3.12/dist-packages (from transformers) (25.0)\n",
            "Requirement already satisfied: pyyaml>=5.1 in /usr/local/lib/python3.12/dist-packages (from transformers) (6.0.2)\n",
            "Requirement already satisfied: regex!=2019.12.17 in /usr/local/lib/python3.12/dist-packages (from transformers) (2024.11.6)\n",
            "Requirement already satisfied: requests in /usr/local/lib/python3.12/dist-packages (from transformers) (2.32.5)\n",
            "Requirement already satisfied: tokenizers<0.22,>=0.21 in /usr/local/lib/python3.12/dist-packages (from transformers) (0.21.4)\n",
            "Requirement already satisfied: safetensors>=0.4.3 in /usr/local/lib/python3.12/dist-packages (from transformers) (0.6.2)\n",
            "Requirement already satisfied: tqdm>=4.27 in /usr/local/lib/python3.12/dist-packages (from transformers) (4.67.1)\n",
            "Requirement already satisfied: psutil in /usr/local/lib/python3.12/dist-packages (from accelerate) (5.9.5)\n",
            "Requirement already satisfied: torch>=2.0.0 in /usr/local/lib/python3.12/dist-packages (from accelerate) (2.8.0+cu126)\n",
            "Requirement already satisfied: fsspec>=2023.5.0 in /usr/local/lib/python3.12/dist-packages (from huggingface-hub<1.0,>=0.34.0->transformers) (2025.3.0)\n",
            "Requirement already satisfied: typing-extensions>=3.7.4.3 in /usr/local/lib/python3.12/dist-packages (from huggingface-hub<1.0,>=0.34.0->transformers) (4.15.0)\n",
            "Requirement already satisfied: hf-xet<2.0.0,>=1.1.3 in /usr/local/lib/python3.12/dist-packages (from huggingface-hub<1.0,>=0.34.0->transformers) (1.1.8)\n",
            "Requirement already satisfied: setuptools in /usr/local/lib/python3.12/dist-packages (from torch>=2.0.0->accelerate) (75.2.0)\n",
            "Requirement already satisfied: sympy>=1.13.3 in /usr/local/lib/python3.12/dist-packages (from torch>=2.0.0->accelerate) (1.13.3)\n",
            "Requirement already satisfied: networkx in /usr/local/lib/python3.12/dist-packages (from torch>=2.0.0->accelerate) (3.5)\n",
            "Requirement already satisfied: jinja2 in /usr/local/lib/python3.12/dist-packages (from torch>=2.0.0->accelerate) (3.1.6)\n",
            "Requirement already satisfied: nvidia-cuda-nvrtc-cu12==12.6.77 in /usr/local/lib/python3.12/dist-packages (from torch>=2.0.0->accelerate) (12.6.77)\n",
            "Requirement already satisfied: nvidia-cuda-runtime-cu12==12.6.77 in /usr/local/lib/python3.12/dist-packages (from torch>=2.0.0->accelerate) (12.6.77)\n",
            "Requirement already satisfied: nvidia-cuda-cupti-cu12==12.6.80 in /usr/local/lib/python3.12/dist-packages (from torch>=2.0.0->accelerate) (12.6.80)\n",
            "Requirement already satisfied: nvidia-cudnn-cu12==9.10.2.21 in /usr/local/lib/python3.12/dist-packages (from torch>=2.0.0->accelerate) (9.10.2.21)\n",
            "Requirement already satisfied: nvidia-cublas-cu12==12.6.4.1 in /usr/local/lib/python3.12/dist-packages (from torch>=2.0.0->accelerate) (12.6.4.1)\n",
            "Requirement already satisfied: nvidia-cufft-cu12==11.3.0.4 in /usr/local/lib/python3.12/dist-packages (from torch>=2.0.0->accelerate) (11.3.0.4)\n",
            "Requirement already satisfied: nvidia-curand-cu12==10.3.7.77 in /usr/local/lib/python3.12/dist-packages (from torch>=2.0.0->accelerate) (10.3.7.77)\n",
            "Requirement already satisfied: nvidia-cusolver-cu12==11.7.1.2 in /usr/local/lib/python3.12/dist-packages (from torch>=2.0.0->accelerate) (11.7.1.2)\n",
            "Requirement already satisfied: nvidia-cusparse-cu12==12.5.4.2 in /usr/local/lib/python3.12/dist-packages (from torch>=2.0.0->accelerate) (12.5.4.2)\n",
            "Requirement already satisfied: nvidia-cusparselt-cu12==0.7.1 in /usr/local/lib/python3.12/dist-packages (from torch>=2.0.0->accelerate) (0.7.1)\n",
            "Requirement already satisfied: nvidia-nccl-cu12==2.27.3 in /usr/local/lib/python3.12/dist-packages (from torch>=2.0.0->accelerate) (2.27.3)\n",
            "Requirement already satisfied: nvidia-nvtx-cu12==12.6.77 in /usr/local/lib/python3.12/dist-packages (from torch>=2.0.0->accelerate) (12.6.77)\n",
            "Requirement already satisfied: nvidia-nvjitlink-cu12==12.6.85 in /usr/local/lib/python3.12/dist-packages (from torch>=2.0.0->accelerate) (12.6.85)\n",
            "Requirement already satisfied: nvidia-cufile-cu12==1.11.1.6 in /usr/local/lib/python3.12/dist-packages (from torch>=2.0.0->accelerate) (1.11.1.6)\n",
            "Requirement already satisfied: triton==3.4.0 in /usr/local/lib/python3.12/dist-packages (from torch>=2.0.0->accelerate) (3.4.0)\n",
            "Requirement already satisfied: charset_normalizer<4,>=2 in /usr/local/lib/python3.12/dist-packages (from requests->transformers) (3.4.3)\n",
            "Requirement already satisfied: idna<4,>=2.5 in /usr/local/lib/python3.12/dist-packages (from requests->transformers) (3.10)\n",
            "Requirement already satisfied: urllib3<3,>=1.21.1 in /usr/local/lib/python3.12/dist-packages (from requests->transformers) (2.5.0)\n",
            "Requirement already satisfied: certifi>=2017.4.17 in /usr/local/lib/python3.12/dist-packages (from requests->transformers) (2025.8.3)\n",
            "Requirement already satisfied: mpmath<1.4,>=1.1.0 in /usr/local/lib/python3.12/dist-packages (from sympy>=1.13.3->torch>=2.0.0->accelerate) (1.3.0)\n",
            "Requirement already satisfied: MarkupSafe>=2.0 in /usr/local/lib/python3.12/dist-packages (from jinja2->torch>=2.0.0->accelerate) (3.0.2)\n",
            "Requirement already satisfied: torch in /usr/local/lib/python3.12/dist-packages (2.8.0+cu126)\n",
            "Requirement already satisfied: torchvision in /usr/local/lib/python3.12/dist-packages (0.23.0+cu126)\n",
            "Requirement already satisfied: torchaudio in /usr/local/lib/python3.12/dist-packages (2.8.0+cu126)\n",
            "Requirement already satisfied: filelock in /usr/local/lib/python3.12/dist-packages (from torch) (3.19.1)\n",
            "Requirement already satisfied: typing-extensions>=4.10.0 in /usr/local/lib/python3.12/dist-packages (from torch) (4.15.0)\n",
            "Requirement already satisfied: setuptools in /usr/local/lib/python3.12/dist-packages (from torch) (75.2.0)\n",
            "Requirement already satisfied: sympy>=1.13.3 in /usr/local/lib/python3.12/dist-packages (from torch) (1.13.3)\n",
            "Requirement already satisfied: networkx in /usr/local/lib/python3.12/dist-packages (from torch) (3.5)\n",
            "Requirement already satisfied: jinja2 in /usr/local/lib/python3.12/dist-packages (from torch) (3.1.6)\n",
            "Requirement already satisfied: fsspec in /usr/local/lib/python3.12/dist-packages (from torch) (2025.3.0)\n",
            "Requirement already satisfied: nvidia-cuda-nvrtc-cu12==12.6.77 in /usr/local/lib/python3.12/dist-packages (from torch) (12.6.77)\n",
            "Requirement already satisfied: nvidia-cuda-runtime-cu12==12.6.77 in /usr/local/lib/python3.12/dist-packages (from torch) (12.6.77)\n",
            "Requirement already satisfied: nvidia-cuda-cupti-cu12==12.6.80 in /usr/local/lib/python3.12/dist-packages (from torch) (12.6.80)\n",
            "Requirement already satisfied: nvidia-cudnn-cu12==9.10.2.21 in /usr/local/lib/python3.12/dist-packages (from torch) (9.10.2.21)\n",
            "Requirement already satisfied: nvidia-cublas-cu12==12.6.4.1 in /usr/local/lib/python3.12/dist-packages (from torch) (12.6.4.1)\n",
            "Requirement already satisfied: nvidia-cufft-cu12==11.3.0.4 in /usr/local/lib/python3.12/dist-packages (from torch) (11.3.0.4)\n",
            "Requirement already satisfied: nvidia-curand-cu12==10.3.7.77 in /usr/local/lib/python3.12/dist-packages (from torch) (10.3.7.77)\n",
            "Requirement already satisfied: nvidia-cusolver-cu12==11.7.1.2 in /usr/local/lib/python3.12/dist-packages (from torch) (11.7.1.2)\n",
            "Requirement already satisfied: nvidia-cusparse-cu12==12.5.4.2 in /usr/local/lib/python3.12/dist-packages (from torch) (12.5.4.2)\n",
            "Requirement already satisfied: nvidia-cusparselt-cu12==0.7.1 in /usr/local/lib/python3.12/dist-packages (from torch) (0.7.1)\n",
            "Requirement already satisfied: nvidia-nccl-cu12==2.27.3 in /usr/local/lib/python3.12/dist-packages (from torch) (2.27.3)\n",
            "Requirement already satisfied: nvidia-nvtx-cu12==12.6.77 in /usr/local/lib/python3.12/dist-packages (from torch) (12.6.77)\n",
            "Requirement already satisfied: nvidia-nvjitlink-cu12==12.6.85 in /usr/local/lib/python3.12/dist-packages (from torch) (12.6.85)\n",
            "Requirement already satisfied: nvidia-cufile-cu12==1.11.1.6 in /usr/local/lib/python3.12/dist-packages (from torch) (1.11.1.6)\n",
            "Requirement already satisfied: triton==3.4.0 in /usr/local/lib/python3.12/dist-packages (from torch) (3.4.0)\n",
            "Requirement already satisfied: numpy in /usr/local/lib/python3.12/dist-packages (from torchvision) (2.0.2)\n",
            "Requirement already satisfied: pillow!=8.3.*,>=5.3.0 in /usr/local/lib/python3.12/dist-packages (from torchvision) (11.3.0)\n",
            "Requirement already satisfied: mpmath<1.4,>=1.1.0 in /usr/local/lib/python3.12/dist-packages (from sympy>=1.13.3->torch) (1.3.0)\n",
            "Requirement already satisfied: MarkupSafe>=2.0 in /usr/local/lib/python3.12/dist-packages (from jinja2->torch) (3.0.2)\n",
            "Requirement already satisfied: langchain in /usr/local/lib/python3.12/dist-packages (0.3.27)\n",
            "Requirement already satisfied: langchain-community in /usr/local/lib/python3.12/dist-packages (0.3.29)\n",
            "Requirement already satisfied: langchain-core<1.0.0,>=0.3.72 in /usr/local/lib/python3.12/dist-packages (from langchain) (0.3.75)\n",
            "Requirement already satisfied: langchain-text-splitters<1.0.0,>=0.3.9 in /usr/local/lib/python3.12/dist-packages (from langchain) (0.3.9)\n",
            "Requirement already satisfied: langsmith>=0.1.17 in /usr/local/lib/python3.12/dist-packages (from langchain) (0.4.16)\n",
            "Requirement already satisfied: pydantic<3.0.0,>=2.7.4 in /usr/local/lib/python3.12/dist-packages (from langchain) (2.11.7)\n",
            "Requirement already satisfied: SQLAlchemy<3,>=1.4 in /usr/local/lib/python3.12/dist-packages (from langchain) (2.0.43)\n",
            "Requirement already satisfied: requests<3,>=2 in /usr/local/lib/python3.12/dist-packages (from langchain) (2.32.5)\n",
            "Requirement already satisfied: PyYAML>=5.3 in /usr/local/lib/python3.12/dist-packages (from langchain) (6.0.2)\n",
            "Requirement already satisfied: aiohttp<4.0.0,>=3.8.3 in /usr/local/lib/python3.12/dist-packages (from langchain-community) (3.12.15)\n",
            "Requirement already satisfied: tenacity!=8.4.0,<10,>=8.1.0 in /usr/local/lib/python3.12/dist-packages (from langchain-community) (8.5.0)\n",
            "Requirement already satisfied: dataclasses-json<0.7,>=0.6.7 in /usr/local/lib/python3.12/dist-packages (from langchain-community) (0.6.7)\n",
            "Requirement already satisfied: pydantic-settings<3.0.0,>=2.10.1 in /usr/local/lib/python3.12/dist-packages (from langchain-community) (2.10.1)\n",
            "Requirement already satisfied: httpx-sse<1.0.0,>=0.4.0 in /usr/local/lib/python3.12/dist-packages (from langchain-community) (0.4.1)\n",
            "Requirement already satisfied: numpy>=1.26.2 in /usr/local/lib/python3.12/dist-packages (from langchain-community) (2.0.2)\n",
            "Requirement already satisfied: aiohappyeyeballs>=2.5.0 in /usr/local/lib/python3.12/dist-packages (from aiohttp<4.0.0,>=3.8.3->langchain-community) (2.6.1)\n",
            "Requirement already satisfied: aiosignal>=1.4.0 in /usr/local/lib/python3.12/dist-packages (from aiohttp<4.0.0,>=3.8.3->langchain-community) (1.4.0)\n",
            "Requirement already satisfied: attrs>=17.3.0 in /usr/local/lib/python3.12/dist-packages (from aiohttp<4.0.0,>=3.8.3->langchain-community) (25.3.0)\n",
            "Requirement already satisfied: frozenlist>=1.1.1 in /usr/local/lib/python3.12/dist-packages (from aiohttp<4.0.0,>=3.8.3->langchain-community) (1.7.0)\n",
            "Requirement already satisfied: multidict<7.0,>=4.5 in /usr/local/lib/python3.12/dist-packages (from aiohttp<4.0.0,>=3.8.3->langchain-community) (6.6.4)\n",
            "Requirement already satisfied: propcache>=0.2.0 in /usr/local/lib/python3.12/dist-packages (from aiohttp<4.0.0,>=3.8.3->langchain-community) (0.3.2)\n",
            "Requirement already satisfied: yarl<2.0,>=1.17.0 in /usr/local/lib/python3.12/dist-packages (from aiohttp<4.0.0,>=3.8.3->langchain-community) (1.20.1)\n",
            "Requirement already satisfied: marshmallow<4.0.0,>=3.18.0 in /usr/local/lib/python3.12/dist-packages (from dataclasses-json<0.7,>=0.6.7->langchain-community) (3.26.1)\n",
            "Requirement already satisfied: typing-inspect<1,>=0.4.0 in /usr/local/lib/python3.12/dist-packages (from dataclasses-json<0.7,>=0.6.7->langchain-community) (0.9.0)\n",
            "Requirement already satisfied: jsonpatch<2.0,>=1.33 in /usr/local/lib/python3.12/dist-packages (from langchain-core<1.0.0,>=0.3.72->langchain) (1.33)\n",
            "Requirement already satisfied: typing-extensions>=4.7 in /usr/local/lib/python3.12/dist-packages (from langchain-core<1.0.0,>=0.3.72->langchain) (4.15.0)\n",
            "Requirement already satisfied: packaging>=23.2 in /usr/local/lib/python3.12/dist-packages (from langchain-core<1.0.0,>=0.3.72->langchain) (25.0)\n",
            "Requirement already satisfied: httpx<1,>=0.23.0 in /usr/local/lib/python3.12/dist-packages (from langsmith>=0.1.17->langchain) (0.28.1)\n",
            "Requirement already satisfied: orjson>=3.9.14 in /usr/local/lib/python3.12/dist-packages (from langsmith>=0.1.17->langchain) (3.11.2)\n",
            "Requirement already satisfied: requests-toolbelt>=1.0.0 in /usr/local/lib/python3.12/dist-packages (from langsmith>=0.1.17->langchain) (1.0.0)\n",
            "Requirement already satisfied: zstandard>=0.23.0 in /usr/local/lib/python3.12/dist-packages (from langsmith>=0.1.17->langchain) (0.24.0)\n",
            "Requirement already satisfied: annotated-types>=0.6.0 in /usr/local/lib/python3.12/dist-packages (from pydantic<3.0.0,>=2.7.4->langchain) (0.7.0)\n",
            "Requirement already satisfied: pydantic-core==2.33.2 in /usr/local/lib/python3.12/dist-packages (from pydantic<3.0.0,>=2.7.4->langchain) (2.33.2)\n",
            "Requirement already satisfied: typing-inspection>=0.4.0 in /usr/local/lib/python3.12/dist-packages (from pydantic<3.0.0,>=2.7.4->langchain) (0.4.1)\n",
            "Requirement already satisfied: python-dotenv>=0.21.0 in /usr/local/lib/python3.12/dist-packages (from pydantic-settings<3.0.0,>=2.10.1->langchain-community) (1.1.1)\n",
            "Requirement already satisfied: charset_normalizer<4,>=2 in /usr/local/lib/python3.12/dist-packages (from requests<3,>=2->langchain) (3.4.3)\n",
            "Requirement already satisfied: idna<4,>=2.5 in /usr/local/lib/python3.12/dist-packages (from requests<3,>=2->langchain) (3.10)\n",
            "Requirement already satisfied: urllib3<3,>=1.21.1 in /usr/local/lib/python3.12/dist-packages (from requests<3,>=2->langchain) (2.5.0)\n",
            "Requirement already satisfied: certifi>=2017.4.17 in /usr/local/lib/python3.12/dist-packages (from requests<3,>=2->langchain) (2025.8.3)\n",
            "Requirement already satisfied: greenlet>=1 in /usr/local/lib/python3.12/dist-packages (from SQLAlchemy<3,>=1.4->langchain) (3.2.4)\n",
            "Requirement already satisfied: anyio in /usr/local/lib/python3.12/dist-packages (from httpx<1,>=0.23.0->langsmith>=0.1.17->langchain) (4.10.0)\n",
            "Requirement already satisfied: httpcore==1.* in /usr/local/lib/python3.12/dist-packages (from httpx<1,>=0.23.0->langsmith>=0.1.17->langchain) (1.0.9)\n",
            "Requirement already satisfied: h11>=0.16 in /usr/local/lib/python3.12/dist-packages (from httpcore==1.*->httpx<1,>=0.23.0->langsmith>=0.1.17->langchain) (0.16.0)\n",
            "Requirement already satisfied: jsonpointer>=1.9 in /usr/local/lib/python3.12/dist-packages (from jsonpatch<2.0,>=1.33->langchain-core<1.0.0,>=0.3.72->langchain) (3.0.0)\n",
            "Requirement already satisfied: mypy-extensions>=0.3.0 in /usr/local/lib/python3.12/dist-packages (from typing-inspect<1,>=0.4.0->dataclasses-json<0.7,>=0.6.7->langchain-community) (1.1.0)\n",
            "Requirement already satisfied: sniffio>=1.1 in /usr/local/lib/python3.12/dist-packages (from anyio->httpx<1,>=0.23.0->langsmith>=0.1.17->langchain) (1.3.1)\n",
            "Requirement already satisfied: faiss-cpu in /usr/local/lib/python3.12/dist-packages (1.12.0)\n",
            "Requirement already satisfied: numpy<3.0,>=1.25.0 in /usr/local/lib/python3.12/dist-packages (from faiss-cpu) (2.0.2)\n",
            "Requirement already satisfied: packaging in /usr/local/lib/python3.12/dist-packages (from faiss-cpu) (25.0)\n",
            "Requirement already satisfied: streamlit in /usr/local/lib/python3.12/dist-packages (1.49.1)\n",
            "Requirement already satisfied: altair!=5.4.0,!=5.4.1,<6,>=4.0 in /usr/local/lib/python3.12/dist-packages (from streamlit) (5.5.0)\n",
            "Requirement already satisfied: blinker<2,>=1.5.0 in /usr/local/lib/python3.12/dist-packages (from streamlit) (1.9.0)\n",
            "Requirement already satisfied: cachetools<7,>=4.0 in /usr/local/lib/python3.12/dist-packages (from streamlit) (5.5.2)\n",
            "Requirement already satisfied: click<9,>=7.0 in /usr/local/lib/python3.12/dist-packages (from streamlit) (8.2.1)\n",
            "Requirement already satisfied: numpy<3,>=1.23 in /usr/local/lib/python3.12/dist-packages (from streamlit) (2.0.2)\n",
            "Requirement already satisfied: packaging<26,>=20 in /usr/local/lib/python3.12/dist-packages (from streamlit) (25.0)\n",
            "Requirement already satisfied: pandas<3,>=1.4.0 in /usr/local/lib/python3.12/dist-packages (from streamlit) (2.2.2)\n",
            "Requirement already satisfied: pillow<12,>=7.1.0 in /usr/local/lib/python3.12/dist-packages (from streamlit) (11.3.0)\n",
            "Requirement already satisfied: protobuf<7,>=3.20 in /usr/local/lib/python3.12/dist-packages (from streamlit) (5.29.5)\n",
            "Requirement already satisfied: pyarrow>=7.0 in /usr/local/lib/python3.12/dist-packages (from streamlit) (18.1.0)\n",
            "Requirement already satisfied: requests<3,>=2.27 in /usr/local/lib/python3.12/dist-packages (from streamlit) (2.32.5)\n",
            "Requirement already satisfied: tenacity<10,>=8.1.0 in /usr/local/lib/python3.12/dist-packages (from streamlit) (8.5.0)\n",
            "Requirement already satisfied: toml<2,>=0.10.1 in /usr/local/lib/python3.12/dist-packages (from streamlit) (0.10.2)\n",
            "Requirement already satisfied: typing-extensions<5,>=4.4.0 in /usr/local/lib/python3.12/dist-packages (from streamlit) (4.15.0)\n",
            "Requirement already satisfied: watchdog<7,>=2.1.5 in /usr/local/lib/python3.12/dist-packages (from streamlit) (6.0.0)\n",
            "Requirement already satisfied: gitpython!=3.1.19,<4,>=3.0.7 in /usr/local/lib/python3.12/dist-packages (from streamlit) (3.1.45)\n",
            "Requirement already satisfied: pydeck<1,>=0.8.0b4 in /usr/local/lib/python3.12/dist-packages (from streamlit) (0.9.1)\n",
            "Requirement already satisfied: tornado!=6.5.0,<7,>=6.0.3 in /usr/local/lib/python3.12/dist-packages (from streamlit) (6.4.2)\n",
            "Requirement already satisfied: jinja2 in /usr/local/lib/python3.12/dist-packages (from altair!=5.4.0,!=5.4.1,<6,>=4.0->streamlit) (3.1.6)\n",
            "Requirement already satisfied: jsonschema>=3.0 in /usr/local/lib/python3.12/dist-packages (from altair!=5.4.0,!=5.4.1,<6,>=4.0->streamlit) (4.25.1)\n",
            "Requirement already satisfied: narwhals>=1.14.2 in /usr/local/lib/python3.12/dist-packages (from altair!=5.4.0,!=5.4.1,<6,>=4.0->streamlit) (2.2.0)\n",
            "Requirement already satisfied: gitdb<5,>=4.0.1 in /usr/local/lib/python3.12/dist-packages (from gitpython!=3.1.19,<4,>=3.0.7->streamlit) (4.0.12)\n",
            "Requirement already satisfied: python-dateutil>=2.8.2 in /usr/local/lib/python3.12/dist-packages (from pandas<3,>=1.4.0->streamlit) (2.9.0.post0)\n",
            "Requirement already satisfied: pytz>=2020.1 in /usr/local/lib/python3.12/dist-packages (from pandas<3,>=1.4.0->streamlit) (2025.2)\n",
            "Requirement already satisfied: tzdata>=2022.7 in /usr/local/lib/python3.12/dist-packages (from pandas<3,>=1.4.0->streamlit) (2025.2)\n",
            "Requirement already satisfied: charset_normalizer<4,>=2 in /usr/local/lib/python3.12/dist-packages (from requests<3,>=2.27->streamlit) (3.4.3)\n",
            "Requirement already satisfied: idna<4,>=2.5 in /usr/local/lib/python3.12/dist-packages (from requests<3,>=2.27->streamlit) (3.10)\n",
            "Requirement already satisfied: urllib3<3,>=1.21.1 in /usr/local/lib/python3.12/dist-packages (from requests<3,>=2.27->streamlit) (2.5.0)\n",
            "Requirement already satisfied: certifi>=2017.4.17 in /usr/local/lib/python3.12/dist-packages (from requests<3,>=2.27->streamlit) (2025.8.3)\n",
            "Requirement already satisfied: smmap<6,>=3.0.1 in /usr/local/lib/python3.12/dist-packages (from gitdb<5,>=4.0.1->gitpython!=3.1.19,<4,>=3.0.7->streamlit) (5.0.2)\n",
            "Requirement already satisfied: MarkupSafe>=2.0 in /usr/local/lib/python3.12/dist-packages (from jinja2->altair!=5.4.0,!=5.4.1,<6,>=4.0->streamlit) (3.0.2)\n",
            "Requirement already satisfied: attrs>=22.2.0 in /usr/local/lib/python3.12/dist-packages (from jsonschema>=3.0->altair!=5.4.0,!=5.4.1,<6,>=4.0->streamlit) (25.3.0)\n",
            "Requirement already satisfied: jsonschema-specifications>=2023.03.6 in /usr/local/lib/python3.12/dist-packages (from jsonschema>=3.0->altair!=5.4.0,!=5.4.1,<6,>=4.0->streamlit) (2025.4.1)\n",
            "Requirement already satisfied: referencing>=0.28.4 in /usr/local/lib/python3.12/dist-packages (from jsonschema>=3.0->altair!=5.4.0,!=5.4.1,<6,>=4.0->streamlit) (0.36.2)\n",
            "Requirement already satisfied: rpds-py>=0.7.1 in /usr/local/lib/python3.12/dist-packages (from jsonschema>=3.0->altair!=5.4.0,!=5.4.1,<6,>=4.0->streamlit) (0.27.0)\n",
            "Requirement already satisfied: six>=1.5 in /usr/local/lib/python3.12/dist-packages (from python-dateutil>=2.8.2->pandas<3,>=1.4.0->streamlit) (1.17.0)\n"
          ]
        }
      ],
      "source": [
        "\n",
        "!pip install pytube yt-dlp\n",
        "!pip install youtube-transcript-api\n",
        "!pip install openai-whisper\n",
        "!pip install langdetect langid\n",
        "!pip install transformers sentencepiece accelerate\n",
        "!pip install torch torchvision torchaudio\n",
        "!pip install langchain langchain-community\n",
        "!pip install faiss-cpu\n",
        "!pip install streamlit\n",
        "!pip install yt-dlp -q\n"
      ]
    },
    {
      "cell_type": "code",
      "source": [
        "from youtube_transcript_api import YouTubeTranscriptApi, TranscriptsDisabled, NoTranscriptFound\n",
        "from urllib.parse import urlparse, parse_qs\n",
        "import yt_dlp\n",
        "import whisper\n",
        "from langdetect import detect\n",
        "from langchain_core.documents import Document\n",
        "from transformers import pipeline\n",
        "from langchain.embeddings import HuggingFaceEmbeddings\n",
        "from langchain.vectorstores import FAISS\n",
        "from langchain.chains import RetrievalQA\n",
        "from langchain.llms import HuggingFacePipeline\n",
        "from langchain.prompts import PromptTemplate\n",
        "import os\n",
        "import warnings\n",
        "import math\n",
        "import warnings\n",
        "warnings.filterwarnings(\"ignore\")\n"
      ],
      "metadata": {
        "id": "NfmgXtJ2nO6u"
      },
      "execution_count": 53,
      "outputs": []
    },
    {
      "cell_type": "markdown",
      "source": [
        "# **get the transcription**"
      ],
      "metadata": {
        "id": "c2A4xY6YzJhF"
      }
    },
    {
      "cell_type": "code",
      "source": [
        "\n",
        "\n",
        "def extract_video_id(url: str) -> str:\n",
        "    parsed = urlparse(url)\n",
        "    qs = parse_qs(parsed.query)\n",
        "    video_ids = qs.get('v')\n",
        "    if not video_ids:\n",
        "        raise ValueError(f\"No video id found in URL: {url}\")\n",
        "    return video_ids[0]\n",
        "\n",
        "def extract_transcript(url):\n",
        "    \"\"\"\n",
        "    Extract transcript from YouTube video.\n",
        "    Uses YouTubeTranscriptApi only (no Whisper).\n",
        "    Returns full_text and segments (with start, duration, text).\n",
        "    \"\"\"\n",
        "    video_id = extract_video_id(url)\n",
        "    api = YouTubeTranscriptApi()\n",
        "\n",
        "    try:\n",
        "        # Try English, fallback to Arabic\n",
        "        try:\n",
        "            fetched = api.fetch(video_id, languages=['en'])\n",
        "        except:\n",
        "            fetched = api.fetch(video_id, languages=['ar'])\n",
        "\n",
        "        full_text = \"\\n\".join(snippet.text for snippet in fetched)\n",
        "        segments = [\n",
        "            {\"start\": snippet.start, \"duration\": snippet.duration, \"text\": snippet.text}\n",
        "            for snippet in fetched\n",
        "        ]\n",
        "        print(\"Transcript fetched via YouTubeTranscriptApi\")\n",
        "        return full_text, segments\n",
        "\n",
        "    except (TranscriptsDisabled, NoTranscriptFound):\n",
        "        raise RuntimeError(\"Transcript not available for this video.\")\n",
        "\n",
        "\n"
      ],
      "metadata": {
        "id": "C4FcutCjG9Jy"
      },
      "execution_count": 55,
      "outputs": []
    },
    {
      "cell_type": "markdown",
      "source": [
        "# **Auto language detecction**"
      ],
      "metadata": {
        "id": "ezAoJ5Ds0wpJ"
      }
    },
    {
      "cell_type": "code",
      "source": [
        "def detect_lang(text):\n",
        "    try:\n",
        "        lang = detect(text)\n",
        "        return \"ar\" if lang.startswith(\"ar\") else \"en\"\n",
        "    except:\n",
        "        return \"en\"\n"
      ],
      "metadata": {
        "id": "tYU33-o0nO_Y"
      },
      "execution_count": 56,
      "outputs": []
    },
    {
      "cell_type": "markdown",
      "source": [
        "# **Chunking**"
      ],
      "metadata": {
        "id": "pN3uhVtU2cxj"
      }
    },
    {
      "cell_type": "code",
      "source": [
        "\n",
        "def chunk_transcript(segments, chunk_size=500, chunk_overlap=50):\n",
        "    \"\"\"\n",
        "    Chunks transcript segments into LangChain Document objects with metadata.\n",
        "    \"\"\"\n",
        "    documents = []\n",
        "    current_chunk = \"\"\n",
        "    current_start_time = 0\n",
        "\n",
        "    for i, seg in enumerate(segments):\n",
        "\n",
        "        if not current_chunk:\n",
        "            current_start_time = seg['start']\n",
        "\n",
        "\n",
        "        segment_text = seg['text'].strip()\n",
        "        if current_chunk:\n",
        "            current_chunk += \" \" + segment_text\n",
        "        else:\n",
        "            current_chunk = segment_text\n",
        "\n",
        "\n",
        "        if len(current_chunk) >= chunk_size:\n",
        "            documents.append(\n",
        "                Document(\n",
        "                    page_content=current_chunk,\n",
        "                    metadata={'start': current_start_time}\n",
        "                )\n",
        "            )\n",
        "\n",
        "\n",
        "\n",
        "            overlap_text = \"\"\n",
        "            temp_len = 0\n",
        "\n",
        "            for j in range(i, -1, -1):\n",
        "                overlap_segment_text = segments[j]['text'].strip()\n",
        "\n",
        "                if overlap_text:\n",
        "                    overlap_text = overlap_segment_text + \" \" + overlap_text\n",
        "                else:\n",
        "                    overlap_text = overlap_segment_text\n",
        "\n",
        "                temp_len += len(overlap_segment_text) + 1 # +1 for space\n",
        "                if temp_len >= chunk_overlap:\n",
        "                    current_chunk = overlap_text\n",
        "                    current_start_time = segments[j]['start']\n",
        "                    break\n",
        "            else:\n",
        "\n",
        "                 current_chunk = \"\"\n",
        "\n",
        "\n",
        "    if current_chunk:\n",
        "        documents.append(\n",
        "            Document(\n",
        "                page_content=current_chunk,\n",
        "                metadata={'start': current_start_time}\n",
        "            )\n",
        "        )\n",
        "\n",
        "    return documents\n"
      ],
      "metadata": {
        "id": "0zW0f2mx2Z-r"
      },
      "execution_count": 57,
      "outputs": []
    },
    {
      "cell_type": "markdown",
      "source": [
        "# **Summarization**"
      ],
      "metadata": {
        "id": "NsYyS2Zc4qHq"
      }
    },
    {
      "cell_type": "code",
      "source": [
        "en_summarizer = pipeline(\"summarization\", model=\"facebook/bart-large-cnn\")\n",
        "ar_summarizer=  pipeline(\"summarization\", model=\"csebuetnlp/mT5_multilingual_XLSum\")"
      ],
      "metadata": {
        "colab": {
          "base_uri": "https://localhost:8080/"
        },
        "id": "EKHLjFHK_Ng9",
        "outputId": "b8d15cf5-6220-43c6-ac00-fb6a531e2b49"
      },
      "execution_count": 58,
      "outputs": [
        {
          "output_type": "stream",
          "name": "stderr",
          "text": [
            "Device set to use cpu\n",
            "Device set to use cpu\n"
          ]
        }
      ]
    },
    {
      "cell_type": "code",
      "source": [
        "\n",
        "def summarise_text(text, lang=\"en\"):\n",
        "    text = text.strip()\n",
        "    if not text:\n",
        "        return \"\"\n",
        "\n",
        "\n",
        "    words = text.split()\n",
        "    text = \" \".join(words[:900]) if len(words) > 900 else text\n",
        "\n",
        "    if lang == \"en\":\n",
        "        summary = en_summarizer(text, max_length=200, min_length=50, do_sample=False)\n",
        "    else:\n",
        "        summary = ar_summarizer(text, max_length=200, min_length=50, do_sample=False)\n",
        "\n",
        "    return summary[0]['summary_text']"
      ],
      "metadata": {
        "id": "VABc3ul-_ftM"
      },
      "execution_count": 59,
      "outputs": []
    },
    {
      "cell_type": "markdown",
      "source": [
        "# **Building the RAG**"
      ],
      "metadata": {
        "id": "eL9lx-ft5Mkh"
      }
    },
    {
      "cell_type": "code",
      "source": [
        "\n",
        "def build_rag(docs, lang=\"en\"):\n",
        "    \"\"\"\n",
        "    Build a LangChain RetrievalQA (RAG) object from a list of Documents.\n",
        "    \"\"\"\n",
        "    if not docs:\n",
        "        raise ValueError(\"No documents provided for RAG!\")\n",
        "\n",
        "\n",
        "    if lang == \"en\":\n",
        "        embeddings = HuggingFaceEmbeddings(model_name=\"sentence-transformers/all-mpnet-base-v2\")\n",
        "    else:\n",
        "        embeddings = HuggingFaceEmbeddings(model_name=\"sentence-transformers/paraphrase-multilingual-mpnet-base-v2\")\n",
        "\n",
        "\n",
        "    db = FAISS.from_documents(docs, embeddings)\n",
        "\n",
        "\n",
        "    if lang == \"en\":\n",
        "        hf_pipe = pipeline(\n",
        "            \"text2text-generation\",\n",
        "            model=\"google/flan-t5-base\",\n",
        "            max_length=512,\n",
        "        )\n",
        "    else:\n",
        "        hf_pipe = pipeline(\n",
        "            \"text2text-generation\",\n",
        "            model=\"UBC-NLP/AraT5-base-title-generation\",  # Arabic-friendly T5\n",
        "            max_length=512,\n",
        "        )\n",
        "\n",
        "    llm = HuggingFacePipeline(pipeline=hf_pipe)\n",
        "\n",
        "    #Custom prompts\n",
        "    if lang == \"en\":\n",
        "        prompt_template = \"\"\"Use the following pieces of context to answer the question at the end.\n",
        "        If you don't know the answer, just say that you don't know, don't try to make up an answer.\n",
        "\n",
        "        Context: {context}\n",
        "        Question: {question}\n",
        "\n",
        "        Helpful Answer:\"\"\"\n",
        "    elif lang == \"ar\":\n",
        "        prompt_template = \"\"\"أنت مساعد ذكي.\n",
        "        استخدم النص التالي للإجابة على السؤال باللغة العربية.\n",
        "\n",
        "        النص: {context}\n",
        "        السؤال: {question}\n",
        "\n",
        "        الإجابة:\"\"\"\n",
        "\n",
        "    PROMPT = PromptTemplate(\n",
        "        template=prompt_template, input_variables=[\"context\", \"question\"]\n",
        "    )\n",
        "    chain_type_kwargs = {\"prompt\": PROMPT}\n",
        "\n",
        "    # 5. Build RetrievalQA object\n",
        "    qa = RetrievalQA.from_chain_type(\n",
        "        llm=llm,\n",
        "        chain_type=\"stuff\",\n",
        "        retriever=db.as_retriever(search_type=\"similarity\", search_kwargs={\"k\": 3}),\n",
        "        return_source_documents=True,\n",
        "        chain_type_kwargs=chain_type_kwargs\n",
        "    )\n",
        "    return qa\n",
        "\n",
        "\n",
        "#Timestamp Formatting\n",
        "def format_time(seconds):\n",
        "    \"\"\"Converts seconds to MM:SS format.\"\"\"\n",
        "    minutes = math.floor(seconds / 60)\n",
        "    seconds = math.floor(seconds % 60)\n",
        "    return f\"{minutes:02d}:{seconds:02d}\""
      ],
      "metadata": {
        "id": "ApA_pYUF-PsB"
      },
      "execution_count": 60,
      "outputs": []
    },
    {
      "cell_type": "code",
      "source": [
        " def run_full_pipeline(video_url, question):\n",
        "    print(f\"Processing video: {video_url}\")\n",
        "    # 1. Extract Transcript\n",
        "    full_text, segments = extract_transcript(video_url)\n",
        "\n",
        "    if not segments:\n",
        "        print(\"Could not retrieve transcript segments. Aborting.\")\n",
        "        return\n",
        "\n",
        "    # 2. Detect Language\n",
        "    lang = detect_lang(full_text)\n",
        "    print(f\"Detected language: {lang}\")\n",
        "\n",
        "    # 3. Summarise\n",
        "    print(\"\\n--- Summary ---\")\n",
        "    summary = summarise_text(full_text, lang)\n",
        "    print(summary)\n",
        "\n",
        "    # 4. Chunk Transcript with Timestamps\n",
        "    docs = chunk_transcript(segments)\n",
        "    print(f\"\\nTranscript chunked into {len(docs)} documents.\")\n",
        "\n",
        "    # 5. Build RAG\n",
        "    print(\"Building RAG system...\")\n",
        "    qa_chain = build_rag(docs, lang)\n",
        "\n",
        "    # 6. Ask Question\n",
        "    print(f\"\\n--- Question & Answer ---\")\n",
        "    print(f\"Question: {question}\")\n",
        "    result = qa_chain({\"query\": question})\n",
        "\n",
        "    print(\"\\nAnswer:\")\n",
        "    print(result['result'])\n",
        "\n",
        "    # 7. Display Sources with Timestamps\n",
        "    print(\"\\n--- Sources ---\")\n",
        "    for doc in result['source_documents']:\n",
        "        start_time = doc.metadata.get('start', 0)\n",
        "        formatted_time = format_time(start_time)\n",
        "        print(f\"Timestamp: {formatted_time}\")\n",
        "        print(f\"Text: {doc.page_content}\\n\")"
      ],
      "metadata": {
        "id": "Si94R83i7CNO"
      },
      "execution_count": 61,
      "outputs": []
    },
    {
      "cell_type": "code",
      "source": [
        "#english\n",
        "YOUTUBE_URL = \"https://www.youtube.com/watch?v=wiNXzydta4c&list=PLkDaE6sCZn6FNC6YRfRQc_FbeQrF8BwGI&index=2\"\n",
        "QUESTION = \"what is the topic of this video?\"\n",
        "\n",
        "if __name__ == '__main__':\n",
        "    run_full_pipeline(YOUTUBE_URL, QUESTION)\n",
        "\n",
        "\n"
      ],
      "metadata": {
        "colab": {
          "base_uri": "https://localhost:8080/"
        },
        "id": "JqaLtAGGD7j-",
        "outputId": "6ee36a1d-9592-4341-f5f9-e94cc9e3fcbe"
      },
      "execution_count": 64,
      "outputs": [
        {
          "output_type": "stream",
          "name": "stdout",
          "text": [
            "Processing video: https://www.youtube.com/watch?v=wiNXzydta4c&list=PLkDaE6sCZn6FNC6YRfRQc_FbeQrF8BwGI&index=2\n",
            "Transcript fetched via YouTubeTranscriptApi\n",
            "Detected language: en\n",
            "\n",
            "--- Summary ---\n",
            "machine learning had grown up as a subfield of AI or artificial intelligence we wanted to build intelligent machines. in this class you learn about the state-of-the-art and also practice implementing machine learning algorithms. You also learn all the important practical tips and tricks for making them perform well and you get to implement them and see how they work for you.\n",
            "\n",
            "Transcript chunked into 9 documents.\n",
            "Building RAG system...\n"
          ]
        },
        {
          "output_type": "stream",
          "name": "stderr",
          "text": [
            "Device set to use cpu\n"
          ]
        },
        {
          "output_type": "stream",
          "name": "stdout",
          "text": [
            "\n",
            "--- Question & Answer ---\n",
            "Question: what is the topic of this video?\n",
            "\n",
            "Answer:\n",
            "machine learning algorithms\n",
            "\n",
            "--- Sources ---\n",
            "Timestamp: 00:01\n",
            "Text: in this class you learn about the state-of-the-art and also practice implementing machine learning algorithms yourself you learn about the most important machine learning algorithms some of which are exactly what's being used in large AI or large tech companies today and you get a sense of what is the state of the art in AI Beyond learning the algorithms though in this class you also learn all the important practical tips and tricks for making them perform well and you get to implement them and see how they work for\n",
            "\n",
            "Timestamp: 03:56\n",
            "Text: guarantee that you find mastering these skills worthwhile in the next video we'll look at a more formal definition of what is machine learning and we'll begin to talk about the main types of machine learning problems and algorithms you pick up some of the main machine learning terminology and start to get a sense of what are the different algorithms and when each one might be appropriate so let's go on to the next video\n",
            "\n",
            "Timestamp: 03:24\n",
            "Text: outside the software industry in sectors such as retail travel Transportation Automotive materials manufacturing and so on because of the massive untapped opportunities across so many different sectors today there is a vast unfulfilled demand for this skill set that's why this is such a great time to be learning about machine learning if you find machine learning applications exciting I hope you stick with me through this course I can almost guarantee that you find mastering these skills worthwhile in the next video\n",
            "\n"
          ]
        }
      ]
    },
    {
      "cell_type": "code",
      "source": [
        "# arabic\n",
        "\n",
        "YOUTUBE_URL = \"https://www.youtube.com/watch?v=gj03qR69mHw\"\n",
        "QUESTION = \"ما هو الموضوع المقطع؟ \"\n",
        "\n",
        "if __name__ == '__main__':\n",
        "    run_full_pipeline(YOUTUBE_URL, QUESTION)\n"
      ],
      "metadata": {
        "colab": {
          "base_uri": "https://localhost:8080/"
        },
        "id": "YEn0jZTl4QaT",
        "outputId": "7e590071-9d5e-427d-d938-db2f29fa9bba"
      },
      "execution_count": 65,
      "outputs": [
        {
          "output_type": "stream",
          "name": "stdout",
          "text": [
            "Processing video: https://www.youtube.com/watch?v=gj03qR69mHw\n",
            "Transcript fetched via YouTubeTranscriptApi\n",
            "Detected language: ar\n",
            "\n",
            "--- Summary ---\n",
            "كيف نعرف القران الكريم؟ سؤال الذي يطرحه كثيرون على موقع تويتر حول الطريقة التي ينبغي استخدامها لتعليم اللغة العربية وكيف نتعامل معها\n",
            "\n",
            "Transcript chunked into 41 documents.\n",
            "Building RAG system...\n"
          ]
        },
        {
          "output_type": "stream",
          "name": "stderr",
          "text": [
            "Device set to use cpu\n"
          ]
        },
        {
          "output_type": "stream",
          "name": "stdout",
          "text": [
            "\n",
            "--- Question & Answer ---\n",
            "Question: ما هو الموضوع المقطع؟ \n",
            "\n",
            "Answer:\n",
            "كل ما تريد معرفته عن (الحروف) (فيديو)\n",
            "\n",
            "--- Sources ---\n",
            "Timestamp: 19:03\n",
            "Text: يبقى اقول مبتدا مرفوع حلو مبتدا مرفوع بالايه هنا بقى مبتدا مرفوع بالالف طب ليه قلنا بالالف بالالف عشان خاطر هي مثنى انت هنا بتكلم واحد ولا بتكلم اثنين لا المعلمان هنا اثنين فبالتالي هنا مثنى فاقول مرفوع بالالف وكمان انت ما بتقولش مرفوعه بالالف وخلاص هي فعلا الالف بتبقى موجوده اللي هي الالف اللي هي قبل النون طب تعال في محبوبان المعلمان مال هم محبوبان ف محبوبان خبر خبر مرفوع وعلامه رفعه الالف ليه قلنا الف عشان مثنى وكمان الالف ونون موجوده امتى اقول واو ونون بقى تقول واو ونون في حاله الجمع المذكر السالم زي المعلمون مجتهدون المعلمون نفس\n",
            "\n",
            "Timestamp: 16:48\n",
            "Text: صعد مدام فعل يبقى دي جمله فعليه اصلا وكمان سؤال كيف يعني اجي اقول لك كيف صعد المؤذن على المنبر مبتسما حاله مبتسما اللي هو كان بيبتسم وهو صاعد على المنبر فمبتعد حال واجي اقول لك جاء الرجل سعيدا اهي سعيدا هنا هترب برده حال ليه حال عشان خاطر دي جمله جمله فعليه الحال بيكون جملته جمله فعليه ا جاء الرجل دي اصلا جمله فعليه وكمان ممكن نحط كيف جرب كده تحط كيفه وتقرا كيف جاء الرجل سعيدا فسعي هنا هتقرب حال وصحيح الحال ده من المنصوبات يعني لازما وانت بتقول حال تقول حال منصور بس كده يا سيدي خلاص احنا قربنا نخلص وكمان لو انت حسيت ان الفيديو تثقيل\n",
            "\n",
            "Timestamp: 17:59\n",
            "Text: هقول مبتدا مرفوع بالايه طب اقول لما اجي اقول حاجه مفعول به منصوب مثلا اقول منصوب بايه طيب اقول مجرور اقول مجرور بايه ده بقى اللي انا هعرفه لك دلوقتي اول حاجه هناخد علامه الرفع يعني لما اجي اقول مرفوع اقول مرفوع بايه على سبيل المثال لو قلت لك المعلم محبوب المعلم دي مبتدا مرفوع طب اقول مبتدا مرفوع بايه هي ده بقى اللي انا عايز اعرفه بص يا عم لما تيجي تقول مرفوع في الاصل في الاصل العلامه الاصليه بتاعه الرفع العلامه الاصليه لما تقول مرفوع يعني تقول مرفوع بالضمه تمام دي كده العلامه الاصليه يعني لما اجي اعرب\n",
            "\n"
          ]
        }
      ]
    }
  ]
}